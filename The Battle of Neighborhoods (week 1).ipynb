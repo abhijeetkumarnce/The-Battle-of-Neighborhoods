{
 "cells": [
  {
   "cell_type": "markdown",
   "metadata": {},
   "source": [
    "#### **Question 1:**  \n",
    "##### Clearly define a problem or an idea of your choice, where you would need to leverage the Foursquare location data to solve or execute. Remember that data science problems always target an audience and are meant to help a group of stakeholders solve a problem, so make sure that you explicitly describe your audience and why they would care about your problem. This submission will eventually become your Introduction/Business Problem section in your final report. So I recommend that you push the report (having your Introduction/Business Problem section only for now) to your Github repository and submit a link to it."
   ]
  },
  {
   "cell_type": "markdown",
   "metadata": {},
   "source": [
    "## **Introduction**"
   ]
  },
  {
   "cell_type": "markdown",
   "metadata": {},
   "source": [
    "#### **Scenario**\n",
    "##### I am a student of Computer Science branch from India. I want to work in Manhattan, NY. Although, I am very excited about it, I am a bit stress toward the process to secure a comparable place to live in Manhattan. Therefore, I decided to apply the learned skills during the Coursera course to explore ways to make sure my decision is factual and rewarding. Of course, there are alternatives to achieve the answer using available Google and Social media tools, but it rewarding doing it myself with learned tools."
   ]
  },
  {
   "cell_type": "markdown",
   "metadata": {},
   "source": [
    "#### **Problem to be resolved**\n",
    "##### The challenge to resolve is being able to find a rental apartment unit in Manhattan NY that offers similar characteristics and benefits to my current situation. Therefore, in order to set a basis for comparison, I want to find a renta unit subject to the following conditions:  \n",
    "1. Apartment with min 2 bedrooms with monthly rent not to exceed US$7000/month.  \n",
    "2. Unit located within walking distance (<=1.0 mile, 1.6 km) from a subway metro station in Manhattan.  \n",
    "3. Area with ammenities and venues similar to the ones described for current location.\n"
   ]
  },
  {
   "cell_type": "markdown",
   "metadata": {},
   "source": [
    "#### **Interested Audience**\n",
    "##### I believe this is a relevant project for a person or entity considering moving to a major city in Europe, US or Asia, since the approach and methodologies used here are applicable in all cases. The use of FourSquare data and mapping techniques combined with data analysis will help resolve the key questions arisen. Lastly, this project is a good practical case toward the development of Data Science skills."
   ]
  },
  {
   "cell_type": "markdown",
   "metadata": {},
   "source": [
    "#### **Question 2:**  \n",
    "##### Describe the data that you will be using to solve the problem or execute your idea. Remember that you will need to use the Foursquare location data to solve the problem or execute your idea. You can absolutely use other datasets in combination with the Foursquare location data. So make sure that you provide adequate explanation and discussion, with examples, of the data that you will be using, even if it is only Foursquare location data. This submission will eventually become your Data section in your final report. So I recommend that you push the report (having your Data section) to your Github repository and submit a link to it."
   ]
  },
  {
   "cell_type": "markdown",
   "metadata": {},
   "source": [
    "## **Data Section**"
   ]
  },
  {
   "cell_type": "markdown",
   "metadata": {},
   "source": [
    "##### The following data is required to answer the issues of the problem:\n",
    "\n",
    "#####    1. List of Boroughs and neighborhoods of Manhattan with their geodata (latitude and longitude)\n",
    "#####    2. List of Subway metro stations in Manhattan with their address location\n",
    "#####    3. List of apartments for rent in Manhattan area with their addresses and price\n",
    "#####    4. Preferably, a list of apartment for rent with additional information, such as price, address, area, # of beds, etc\n",
    "#####    5. Venues for each Manhattan neighborhood ( than can be clustered)\n",
    "#####    6. Venues for subway metro stations, as needed\n"
   ]
  },
  {
   "cell_type": "markdown",
   "metadata": {},
   "source": [
    "#### **How the data will be used to solve the problem**"
   ]
  },
  {
   "cell_type": "markdown",
   "metadata": {},
   "source": [
    "##### The data will be used as follows:\n",
    "\n",
    "#####    1. Use Foursquare and geopy data to map top 10 venues for all Manhattan neighborhoods and clustered in groups ( as per Course LAB)\n",
    "#####    2. Use foursquare and geopy data to map the location of subway metro stations , separately and on top of the above clustered map in order to be able to identify the venues and ammenities near each metro station, or explore each subway location separately\n",
    "#####    3. Use Foursquare and geopy data to map the location of rental places, in some form, linked to the subway locations.\n",
    "#####    4. create a map that depicts, for instance, the average rental price per square ft, around a radious of 1.0 mile (1.6 km) around each subway station - or a similar metrics. I will be able to quickly point to the popups to know the relative price per subway area.\n",
    "#####    5. Addresses from rental locations will be converted to geodata( lat, long) using Geopy-distance and Nominatim.\n",
    "#####    6. Data will be searched in open data sources if available, from real estate sites if open to reading, libraries or other government agencies such as Metro New York MTA, etc.\n"
   ]
  },
  {
   "cell_type": "markdown",
   "metadata": {},
   "source": [
    "##### The procesing of these DATA will allow to answer the key questions to make a decision:\n",
    "\n",
    "#####    1. what is the cost of rent (per square ft) around a mile radius from each subway metro station?\n",
    "#####    2. what is the area of Manhattan with best rental pricing that meets criteria established?\n",
    "#####    3. What is the distance from work place ( Park Ave and 53 rd St) and the tentative future home?\n",
    "#####    4. What are the venues of the two best places to live? How the prices compare?\n",
    "#####    5. How venues distribute among Manhattan neighborhoods and around metro stations?\n",
    "#####    6. Are there tradeoffs between size and price and location?\n",
    "#####    7. Any other interesting statistical data findings of the real estate and overall data.\n"
   ]
  },
  {
   "cell_type": "code",
   "execution_count": null,
   "metadata": {},
   "outputs": [],
   "source": []
  }
 ],
 "metadata": {
  "kernelspec": {
   "display_name": "Python",
   "language": "python",
   "name": "conda-env-python-py"
  },
  "language_info": {
   "codemirror_mode": {
    "name": "ipython",
    "version": 3
   },
   "file_extension": ".py",
   "mimetype": "text/x-python",
   "name": "python",
   "nbconvert_exporter": "python",
   "pygments_lexer": "ipython3",
   "version": "3.6.10"
  }
 },
 "nbformat": 4,
 "nbformat_minor": 4
}
